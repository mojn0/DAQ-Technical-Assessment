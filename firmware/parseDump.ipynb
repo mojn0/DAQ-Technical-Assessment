{
 "cells": [
  {
   "cell_type": "code",
   "execution_count": 1,
   "metadata": {},
   "outputs": [],
   "source": [
    "import seaborn as sns\n",
    "import pandas as pd\n",
    "import numpy as np\n",
    "import matplotlib.pyplot as plt"
   ]
  },
  {
   "cell_type": "markdown",
   "metadata": {},
   "source": [
    "## Parsing dump.log"
   ]
  },
  {
   "cell_type": "code",
   "execution_count": 2,
   "metadata": {},
   "outputs": [],
   "source": [
    "path = 'dump.log'\n",
    "\n",
    "log_data = open(path, 'r')\n",
    "\n",
    "timestamp = []\n",
    "interface = []\n",
    "idData_Payload = []\n",
    "\n",
    "for line in log_data:\n",
    "    columns = line.split(' ')\n",
    "    timestamp.append(columns[0])\n",
    "    interface.append(columns[1])\n",
    "    idData_Payload.append(columns[2])\n",
    "    \n",
    "id = []\n",
    "payload = []\n",
    "\n",
    "for i in idData_Payload:\n",
    "    s1, s2 = i.split('#')\n",
    "    id.append(s1)\n",
    "    payload.append(s2)\n",
    "    \n",
    "payload = [x.strip('\\n') for x in payload]\n",
    "\n",
    "    \n",
    "data = {'timestamp': timestamp, 'interface': interface, 'id': id, 'payload': payload}\n",
    "df = pd.DataFrame(data)\n",
    "df.sort_values(by=['timestamp'], inplace=True)\n"
   ]
  },
  {
   "cell_type": "markdown",
   "metadata": {},
   "source": [
    "Takes way too long to run the next snippet of code, need to refactor this to be faster in some way"
   ]
  },
  {
   "cell_type": "code",
   "execution_count": 3,
   "metadata": {},
   "outputs": [],
   "source": [
    "for i in range(len(df)):\n",
    "    if df['interface'][i] == 'can0':\n",
    "        df['interface'][i] = ' ControlBus'\n",
    "    elif df['interface'][i] == 'can1':\n",
    "        df['interface'][i] = ' SensorBus'\n",
    "    elif df['interface'][i] == 'can2':\n",
    "        df['interface'][i] = ' TractiveBus'\n",
    "    df['id'][i] = ' ' + df['id'][i]\n",
    "    df['payload'][i] = ' ' + df['payload'][i]"
   ]
  },
  {
   "cell_type": "code",
   "execution_count": 4,
   "metadata": {},
   "outputs": [
    {
     "data": {
      "text/html": [
       "<div>\n",
       "<style scoped>\n",
       "    .dataframe tbody tr th:only-of-type {\n",
       "        vertical-align: middle;\n",
       "    }\n",
       "\n",
       "    .dataframe tbody tr th {\n",
       "        vertical-align: top;\n",
       "    }\n",
       "\n",
       "    .dataframe thead th {\n",
       "        text-align: right;\n",
       "    }\n",
       "</style>\n",
       "<table border=\"1\" class=\"dataframe\">\n",
       "  <thead>\n",
       "    <tr style=\"text-align: right;\">\n",
       "      <th></th>\n",
       "      <th>timestamp</th>\n",
       "      <th>interface</th>\n",
       "      <th>id</th>\n",
       "      <th>payload</th>\n",
       "    </tr>\n",
       "  </thead>\n",
       "  <tbody>\n",
       "    <tr>\n",
       "      <th>0</th>\n",
       "      <td>(1730892639.316946)</td>\n",
       "      <td>SensorBus</td>\n",
       "      <td>709</td>\n",
       "      <td>FF7F0080A3BC</td>\n",
       "    </tr>\n",
       "    <tr>\n",
       "      <th>2</th>\n",
       "      <td>(1730892639.317234)</td>\n",
       "      <td>ControlBus</td>\n",
       "      <td>500</td>\n",
       "      <td>0000FD00FF000000</td>\n",
       "    </tr>\n",
       "    <tr>\n",
       "      <th>4</th>\n",
       "      <td>(1730892639.317307)</td>\n",
       "      <td>ControlBus</td>\n",
       "      <td>501</td>\n",
       "      <td>000000000000</td>\n",
       "    </tr>\n",
       "    <tr>\n",
       "      <th>5</th>\n",
       "      <td>(1730892639.317431)</td>\n",
       "      <td>ControlBus</td>\n",
       "      <td>703</td>\n",
       "      <td>840002002904</td>\n",
       "    </tr>\n",
       "    <tr>\n",
       "      <th>6</th>\n",
       "      <td>(1730892639.317536)</td>\n",
       "      <td>ControlBus</td>\n",
       "      <td>502</td>\n",
       "      <td>A9801F0000</td>\n",
       "    </tr>\n",
       "  </tbody>\n",
       "</table>\n",
       "</div>"
      ],
      "text/plain": [
       "             timestamp    interface    id            payload\n",
       "0  (1730892639.316946)    SensorBus   709       FF7F0080A3BC\n",
       "2  (1730892639.317234)   ControlBus   500   0000FD00FF000000\n",
       "4  (1730892639.317307)   ControlBus   501       000000000000\n",
       "5  (1730892639.317431)   ControlBus   703       840002002904\n",
       "6  (1730892639.317536)   ControlBus   502         A9801F0000"
      ]
     },
     "execution_count": 4,
     "metadata": {},
     "output_type": "execute_result"
    }
   ],
   "source": [
    "df.head()"
   ]
  },
  {
   "cell_type": "code",
   "execution_count": 5,
   "metadata": {},
   "outputs": [],
   "source": [
    "df.to_csv('output.txt', sep=':', index=False)"
   ]
  },
  {
   "cell_type": "markdown",
   "metadata": {},
   "source": [
    "### To Finish"
   ]
  },
  {
   "cell_type": "code",
   "execution_count": null,
   "metadata": {},
   "outputs": [],
   "source": [
    "cb_path = 'ControlBus.txt'\n",
    "sb_path = 'SensorBus.txt'\n",
    "tb_path = 'TractiveBus.txt'\n",
    "\n",
    "cb = open(cb_path, 'r')\n",
    "sb = open(sb_path, 'r')\n",
    "tb = open(tb_path, 'r')"
   ]
  },
  {
   "cell_type": "code",
   "execution_count": null,
   "metadata": {},
   "outputs": [],
   "source": [
    "def ControlBus(df):\n",
    "    pass\n",
    "    \n",
    "def SensorBus(df):\n",
    "    pass\n",
    "    \n",
    "def TractiveBus(df):\n",
    "    pass"
   ]
  }
 ],
 "metadata": {
  "kernelspec": {
   "display_name": "Python 3",
   "language": "python",
   "name": "python3"
  },
  "language_info": {
   "codemirror_mode": {
    "name": "ipython",
    "version": 3
   },
   "file_extension": ".py",
   "mimetype": "text/x-python",
   "name": "python",
   "nbconvert_exporter": "python",
   "pygments_lexer": "ipython3",
   "version": "3.12.3"
  }
 },
 "nbformat": 4,
 "nbformat_minor": 2
}
